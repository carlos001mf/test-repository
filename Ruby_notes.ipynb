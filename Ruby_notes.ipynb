{
  "nbformat": 4,
  "nbformat_minor": 0,
  "metadata": {
    "colab": {
      "name": "Ruby-notes.ipynb",
      "provenance": [],
      "collapsed_sections": [],
      "authorship_tag": "ABX9TyOjYgWbaSeeO/yZJHCAO9TL",
      "include_colab_link": true
    },
    "kernelspec": {
      "name": "python3",
      "display_name": "Python 3"
    }
  },
  "cells": [
    {
      "cell_type": "markdown",
      "metadata": {
        "id": "view-in-github",
        "colab_type": "text"
      },
      "source": [
        "<a href=\"https://colab.research.google.com/github/carlos001mf/test-repository/blob/master/Ruby_notes.ipynb\" target=\"_parent\"><img src=\"https://colab.research.google.com/assets/colab-badge.svg\" alt=\"Open In Colab\"/></a>"
      ]
    },
    {
      "cell_type": "markdown",
      "metadata": {
        "id": "JwOyTyObmBxJ",
        "colab_type": "text"
      },
      "source": [
        "repl = read evaluate print loop\n",
        "\n",
        "SaaS = Software as a servive\n",
        "\n",
        "Production deployment = Heroku\n",
        "\n",
        "URL for help, collaborative, etc = www.mashrurhossain.com\n",
        "\n",
        "URL for Ruby language general = www.ruby-lang.org\n",
        "\n"
      ]
    },
    {
      "cell_type": "markdown",
      "metadata": {
        "id": "8BhLaZNV7JVZ",
        "colab_type": "text"
      },
      "source": [
        "# strings\n",
        "\n",
        "\"\" allow string operations and #{} substitutions -> allow string interpolations\n",
        "\n",
        "' ' dont allow string interpollation\n",
        "\n",
        "irb = interactive ruby console\n",
        "\n",
        "# .class\n",
        "variable.class prints its class\n",
        "In Ruby **everything** is an object\n",
        "\n",
        "# .method\n",
        "prints class methods, can be done over a variable\n",
        "eg: name.methods\n",
        "\n",
        "# Method chaining\n",
        "10.to_s.class  integer converted to string\n",
        "\n",
        "# .sub can change strings into a string\n",
        "\n",
        "var = \"welcome to the jungle\"\n",
        "var.sub(\"the jungle\", \"utopia\")\n",
        "\n",
        "# vars and memory\n",
        "name = \"Carlos\"\n",
        "new_name = name\n",
        "name = \"Manuel\"\n",
        "new_name is still Carlos, passed by variable\n",
        "\n",
        "#inputs\n",
        "\n",
        "var = gets.chomp //gets an string\n",
        "p var.to_i"
      ]
    }
  ]
}